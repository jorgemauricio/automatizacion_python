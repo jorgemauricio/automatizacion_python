{
 "cells": [
  {
   "cell_type": "markdown",
   "metadata": {},
   "source": [
    "# Taller de Automatización de Procesos con Python"
   ]
  },
  {
   "cell_type": "markdown",
   "metadata": {},
   "source": [
    "## Introducción a Pandas\n",
    "\n",
    "### GitHub repository: https://github.com/jorgemauricio/automatizacion_python\n",
    "\n",
    "### Instructor: Jorge Mauricio\n",
    "\n",
    "### Base de datos: Stanford Open Policing Project ([Montana](https://openpolicing.stanford.edu/data)) "
   ]
  },
  {
   "cell_type": "code",
   "execution_count": 1,
   "metadata": {
    "collapsed": true
   },
   "outputs": [],
   "source": [
    "# librerías\n",
    "import pandas as pd\n",
    "import matplotlib.pyplot as plt\n",
    "%matplotlib inline"
   ]
  },
  {
   "cell_type": "code",
   "execution_count": 2,
   "metadata": {
    "collapsed": true
   },
   "outputs": [],
   "source": [
    "# leer csv\n",
    "df = pd.read_csv(\"data/Montana.csv\", low_memory=False)"
   ]
  },
  {
   "cell_type": "code",
   "execution_count": 3,
   "metadata": {},
   "outputs": [
    {
     "data": {
      "text/html": [
       "<div>\n",
       "<style>\n",
       "    .dataframe thead tr:only-child th {\n",
       "        text-align: right;\n",
       "    }\n",
       "\n",
       "    .dataframe thead th {\n",
       "        text-align: left;\n",
       "    }\n",
       "\n",
       "    .dataframe tbody tr th {\n",
       "        vertical-align: top;\n",
       "    }\n",
       "</style>\n",
       "<table border=\"1\" class=\"dataframe\">\n",
       "  <thead>\n",
       "    <tr style=\"text-align: right;\">\n",
       "      <th></th>\n",
       "      <th>id</th>\n",
       "      <th>state</th>\n",
       "      <th>stop_date</th>\n",
       "      <th>stop_time</th>\n",
       "      <th>location_raw</th>\n",
       "      <th>county_name</th>\n",
       "      <th>county_fips</th>\n",
       "      <th>fine_grained_location</th>\n",
       "      <th>police_department</th>\n",
       "      <th>driver_gender</th>\n",
       "      <th>...</th>\n",
       "      <th>lon</th>\n",
       "      <th>ethnicity</th>\n",
       "      <th>city</th>\n",
       "      <th>out_of_state</th>\n",
       "      <th>vehicle_year</th>\n",
       "      <th>vehicle_make</th>\n",
       "      <th>vehicle_model</th>\n",
       "      <th>vehicle_style</th>\n",
       "      <th>search_reason</th>\n",
       "      <th>stop_outcome_raw</th>\n",
       "    </tr>\n",
       "  </thead>\n",
       "  <tbody>\n",
       "    <tr>\n",
       "      <th>0</th>\n",
       "      <td>MT-2009-00001</td>\n",
       "      <td>MT</td>\n",
       "      <td>2009-01-01</td>\n",
       "      <td>02:10</td>\n",
       "      <td>CASCADE</td>\n",
       "      <td>Cascade County</td>\n",
       "      <td>30013.0</td>\n",
       "      <td>US 89 N MM10 (SB)</td>\n",
       "      <td>NaN</td>\n",
       "      <td>F</td>\n",
       "      <td>...</td>\n",
       "      <td>-111.802932</td>\n",
       "      <td>N</td>\n",
       "      <td>NaN</td>\n",
       "      <td>False</td>\n",
       "      <td>1994</td>\n",
       "      <td>FORD</td>\n",
       "      <td>EXPLORER</td>\n",
       "      <td>SPORT UTILITY</td>\n",
       "      <td>NaN</td>\n",
       "      <td>TRAFFIC CITATION,WARNING</td>\n",
       "    </tr>\n",
       "    <tr>\n",
       "      <th>1</th>\n",
       "      <td>MT-2009-00002</td>\n",
       "      <td>MT</td>\n",
       "      <td>2009-01-02</td>\n",
       "      <td>11:34</td>\n",
       "      <td>MISSOULA</td>\n",
       "      <td>Missoula County</td>\n",
       "      <td>30063.0</td>\n",
       "      <td>HWY 93 SO AND ANNS LANE S/B</td>\n",
       "      <td>NaN</td>\n",
       "      <td>M</td>\n",
       "      <td>...</td>\n",
       "      <td>-114.081142</td>\n",
       "      <td>N</td>\n",
       "      <td>NaN</td>\n",
       "      <td>False</td>\n",
       "      <td>1996</td>\n",
       "      <td>GMC</td>\n",
       "      <td>TK</td>\n",
       "      <td>TRUCK</td>\n",
       "      <td>NaN</td>\n",
       "      <td>INFFRACTION ARREST,WARNING</td>\n",
       "    </tr>\n",
       "    <tr>\n",
       "      <th>2</th>\n",
       "      <td>MT-2009-00003</td>\n",
       "      <td>MT</td>\n",
       "      <td>2009-01-03</td>\n",
       "      <td>11:36</td>\n",
       "      <td>MISSOULA</td>\n",
       "      <td>Missoula County</td>\n",
       "      <td>30063.0</td>\n",
       "      <td>P007 HWY 93 MM 77 N/B</td>\n",
       "      <td>NaN</td>\n",
       "      <td>M</td>\n",
       "      <td>...</td>\n",
       "      <td>-114.073505</td>\n",
       "      <td>N</td>\n",
       "      <td>NaN</td>\n",
       "      <td>False</td>\n",
       "      <td>1999</td>\n",
       "      <td>GMC</td>\n",
       "      <td>YUKON</td>\n",
       "      <td>SPORT UTILITY</td>\n",
       "      <td>NaN</td>\n",
       "      <td>INFFRACTION ARREST</td>\n",
       "    </tr>\n",
       "    <tr>\n",
       "      <th>3</th>\n",
       "      <td>MT-2009-00004</td>\n",
       "      <td>MT</td>\n",
       "      <td>2009-01-04</td>\n",
       "      <td>10:33</td>\n",
       "      <td>MISSOULA</td>\n",
       "      <td>Missoula County</td>\n",
       "      <td>30063.0</td>\n",
       "      <td>P007 HWY 93 MM 81 S/B</td>\n",
       "      <td>NaN</td>\n",
       "      <td>F</td>\n",
       "      <td>...</td>\n",
       "      <td>-114.079027</td>\n",
       "      <td>NaN</td>\n",
       "      <td>NaN</td>\n",
       "      <td>False</td>\n",
       "      <td>2002</td>\n",
       "      <td>HOND</td>\n",
       "      <td>CR-V</td>\n",
       "      <td>SPORT UTILITY</td>\n",
       "      <td>NaN</td>\n",
       "      <td>INFFRACTION ARREST</td>\n",
       "    </tr>\n",
       "    <tr>\n",
       "      <th>4</th>\n",
       "      <td>MT-2009-00005</td>\n",
       "      <td>MT</td>\n",
       "      <td>2009-01-04</td>\n",
       "      <td>10:46</td>\n",
       "      <td>MISSOULA</td>\n",
       "      <td>Missoula County</td>\n",
       "      <td>30063.0</td>\n",
       "      <td>P007 HWY 93 MM 81 N/B</td>\n",
       "      <td>NaN</td>\n",
       "      <td>M</td>\n",
       "      <td>...</td>\n",
       "      <td>-114.079150</td>\n",
       "      <td>NaN</td>\n",
       "      <td>NaN</td>\n",
       "      <td>False</td>\n",
       "      <td>1992</td>\n",
       "      <td>TOYT</td>\n",
       "      <td>TERCEL</td>\n",
       "      <td>SEDAN</td>\n",
       "      <td>NaN</td>\n",
       "      <td>INFFRACTION ARREST</td>\n",
       "    </tr>\n",
       "  </tbody>\n",
       "</table>\n",
       "<p>5 rows × 33 columns</p>\n",
       "</div>"
      ],
      "text/plain": [
       "              id state   stop_date stop_time location_raw      county_name  \\\n",
       "0  MT-2009-00001    MT  2009-01-01     02:10      CASCADE   Cascade County   \n",
       "1  MT-2009-00002    MT  2009-01-02     11:34     MISSOULA  Missoula County   \n",
       "2  MT-2009-00003    MT  2009-01-03     11:36     MISSOULA  Missoula County   \n",
       "3  MT-2009-00004    MT  2009-01-04     10:33     MISSOULA  Missoula County   \n",
       "4  MT-2009-00005    MT  2009-01-04     10:46     MISSOULA  Missoula County   \n",
       "\n",
       "   county_fips        fine_grained_location  police_department driver_gender  \\\n",
       "0      30013.0            US 89 N MM10 (SB)                NaN             F   \n",
       "1      30063.0  HWY 93 SO AND ANNS LANE S/B                NaN             M   \n",
       "2      30063.0        P007 HWY 93 MM 77 N/B                NaN             M   \n",
       "3      30063.0        P007 HWY 93 MM 81 S/B                NaN             F   \n",
       "4      30063.0        P007 HWY 93 MM 81 N/B                NaN             M   \n",
       "\n",
       "              ...                     lon  ethnicity city out_of_state  \\\n",
       "0             ...             -111.802932          N  NaN        False   \n",
       "1             ...             -114.081142          N  NaN        False   \n",
       "2             ...             -114.073505          N  NaN        False   \n",
       "3             ...             -114.079027        NaN  NaN        False   \n",
       "4             ...             -114.079150        NaN  NaN        False   \n",
       "\n",
       "  vehicle_year vehicle_make  vehicle_model  vehicle_style search_reason  \\\n",
       "0         1994         FORD       EXPLORER  SPORT UTILITY           NaN   \n",
       "1         1996          GMC             TK          TRUCK           NaN   \n",
       "2         1999          GMC          YUKON  SPORT UTILITY           NaN   \n",
       "3         2002         HOND           CR-V  SPORT UTILITY           NaN   \n",
       "4         1992         TOYT         TERCEL          SEDAN           NaN   \n",
       "\n",
       "             stop_outcome_raw  \n",
       "0    TRAFFIC CITATION,WARNING  \n",
       "1  INFFRACTION ARREST,WARNING  \n",
       "2          INFFRACTION ARREST  \n",
       "3          INFFRACTION ARREST  \n",
       "4          INFFRACTION ARREST  \n",
       "\n",
       "[5 rows x 33 columns]"
      ]
     },
     "execution_count": 3,
     "metadata": {},
     "output_type": "execute_result"
    }
   ],
   "source": [
    "# estructura del dataFrame Montana\n",
    "df.head()"
   ]
  },
  {
   "cell_type": "code",
   "execution_count": 4,
   "metadata": {},
   "outputs": [
    {
     "data": {
      "text/plain": [
       "(825118, 33)"
      ]
     },
     "execution_count": 4,
     "metadata": {},
     "output_type": "execute_result"
    }
   ],
   "source": [
    "# cantidad de columnas y filas\n",
    "df.shape"
   ]
  },
  {
   "cell_type": "code",
   "execution_count": 5,
   "metadata": {},
   "outputs": [
    {
     "data": {
      "text/plain": [
       "id                        object\n",
       "state                     object\n",
       "stop_date                 object\n",
       "stop_time                 object\n",
       "location_raw              object\n",
       "county_name               object\n",
       "county_fips              float64\n",
       "fine_grained_location     object\n",
       "police_department        float64\n",
       "driver_gender             object\n",
       "driver_age_raw           float64\n",
       "driver_age               float64\n",
       "driver_race_raw           object\n",
       "driver_race               object\n",
       "violation_raw             object\n",
       "violation                 object\n",
       "search_conducted            bool\n",
       "search_type_raw           object\n",
       "search_type               object\n",
       "contraband_found          object\n",
       "stop_outcome              object\n",
       "is_arrested                 bool\n",
       "lat                      float64\n",
       "lon                      float64\n",
       "ethnicity                 object\n",
       "city                      object\n",
       "out_of_state              object\n",
       "vehicle_year              object\n",
       "vehicle_make              object\n",
       "vehicle_model             object\n",
       "vehicle_style             object\n",
       "search_reason             object\n",
       "stop_outcome_raw          object\n",
       "dtype: object"
      ]
     },
     "execution_count": 5,
     "metadata": {},
     "output_type": "execute_result"
    }
   ],
   "source": [
    "# tipos de datos de cada columna\n",
    "df.dtypes"
   ]
  },
  {
   "cell_type": "code",
   "execution_count": 6,
   "metadata": {},
   "outputs": [
    {
     "data": {
      "text/plain": [
       "id                            0\n",
       "state                         0\n",
       "stop_date                    11\n",
       "stop_time                    11\n",
       "location_raw                  4\n",
       "county_name                4056\n",
       "county_fips                4056\n",
       "fine_grained_location      3741\n",
       "police_department        825118\n",
       "driver_gender               119\n",
       "driver_age_raw                0\n",
       "driver_age                 3480\n",
       "driver_race_raw             106\n",
       "driver_race                2739\n",
       "violation_raw                73\n",
       "violation                    73\n",
       "search_conducted              0\n",
       "search_type_raw          822092\n",
       "search_type              822092\n",
       "contraband_found           3026\n",
       "stop_outcome                 53\n",
       "is_arrested                   0\n",
       "lat                         436\n",
       "lon                         436\n",
       "ethnicity                    98\n",
       "city                     549630\n",
       "out_of_state               4699\n",
       "vehicle_year               6610\n",
       "vehicle_make               4268\n",
       "vehicle_model             23801\n",
       "vehicle_style             65362\n",
       "search_reason            822309\n",
       "stop_outcome_raw             53\n",
       "dtype: int64"
      ]
     },
     "execution_count": 6,
     "metadata": {},
     "output_type": "execute_result"
    }
   ],
   "source": [
    "# contabilizar los valores nulos\n",
    "df.isnull().sum()"
   ]
  },
  {
   "cell_type": "markdown",
   "metadata": {},
   "source": [
    "## Remover columnas que solo contienen valores nulos"
   ]
  },
  {
   "cell_type": "code",
   "execution_count": 7,
   "metadata": {
    "collapsed": true
   },
   "outputs": [],
   "source": [
    "# eliminar la columna de \"police_department\"\n",
    "df.drop(\"police_department\", axis=\"columns\", inplace=True)"
   ]
  },
  {
   "cell_type": "code",
   "execution_count": 8,
   "metadata": {},
   "outputs": [
    {
     "data": {
      "text/plain": [
       "(825118, 32)"
      ]
     },
     "execution_count": 8,
     "metadata": {},
     "output_type": "execute_result"
    }
   ],
   "source": [
    "# contabilizar columnas y filas\n",
    "df.shape"
   ]
  },
  {
   "cell_type": "code",
   "execution_count": 9,
   "metadata": {},
   "outputs": [
    {
     "data": {
      "text/plain": [
       "Index(['id', 'state', 'stop_date', 'stop_time', 'location_raw', 'county_name',\n",
       "       'county_fips', 'fine_grained_location', 'driver_gender',\n",
       "       'driver_age_raw', 'driver_age', 'driver_race_raw', 'driver_race',\n",
       "       'violation_raw', 'violation', 'search_conducted', 'search_type_raw',\n",
       "       'search_type', 'contraband_found', 'stop_outcome', 'is_arrested', 'lat',\n",
       "       'lon', 'ethnicity', 'city', 'out_of_state', 'vehicle_year',\n",
       "       'vehicle_make', 'vehicle_model', 'vehicle_style', 'search_reason',\n",
       "       'stop_outcome_raw'],\n",
       "      dtype='object')"
      ]
     },
     "execution_count": 9,
     "metadata": {},
     "output_type": "execute_result"
    }
   ],
   "source": [
    "# checar columnas\n",
    "df.columns"
   ]
  },
  {
   "cell_type": "code",
   "execution_count": 10,
   "metadata": {},
   "outputs": [
    {
     "data": {
      "text/plain": [
       "(825118, 32)"
      ]
     },
     "execution_count": 10,
     "metadata": {},
     "output_type": "execute_result"
    }
   ],
   "source": [
    "# método alternativo\n",
    "df.dropna(axis='columns', how='all').shape"
   ]
  },
  {
   "cell_type": "markdown",
   "metadata": {},
   "source": [
    "NOTA: \n",
    "- Existe más de una forma de eliminar datos nulos\n",
    "- Verificar los argumentos de cada método"
   ]
  },
  {
   "cell_type": "markdown",
   "metadata": {},
   "source": [
    "## ¿Qué genero es detenido más por exceso de velocidad?"
   ]
  },
  {
   "cell_type": "code",
   "execution_count": 11,
   "metadata": {},
   "outputs": [
    {
     "data": {
      "text/plain": [
       "M    225327\n",
       "F    111598\n",
       "Name: driver_gender, dtype: int64"
      ]
     },
     "execution_count": 11,
     "metadata": {},
     "output_type": "execute_result"
    }
   ],
   "source": [
    "# Número de mujeres y hombres que son detenidos por exceso de velocidad\n",
    "df[df[\"violation\"] == 'Speeding'][\"driver_gender\"].value_counts()"
   ]
  },
  {
   "cell_type": "code",
   "execution_count": 12,
   "metadata": {},
   "outputs": [
    {
     "data": {
      "text/plain": [
       "M    0.668775\n",
       "F    0.331225\n",
       "Name: driver_gender, dtype: float64"
      ]
     },
     "execution_count": 12,
     "metadata": {},
     "output_type": "execute_result"
    }
   ],
   "source": [
    "# Porcentaje de mujeres y hombres que son detenidos por exceso de velocidad\n",
    "df[df[\"violation\"] == 'Speeding'][\"driver_gender\"].value_counts(normalize=True)"
   ]
  },
  {
   "cell_type": "code",
   "execution_count": 13,
   "metadata": {},
   "outputs": [
    {
     "data": {
      "text/plain": [
       "M    0.668775\n",
       "F    0.331225\n",
       "Name: driver_gender, dtype: float64"
      ]
     },
     "execution_count": 13,
     "metadata": {},
     "output_type": "execute_result"
    }
   ],
   "source": [
    "# forma alternativa\n",
    "df.loc[df[\"violation\"] == 'Speeding', \"driver_gender\"].value_counts(normalize=True)"
   ]
  },
  {
   "cell_type": "code",
   "execution_count": 14,
   "metadata": {},
   "outputs": [
    {
     "data": {
      "text/plain": [
       "Speeding                                                0.404612\n",
       "License,Speeding                                        0.066251\n",
       "Paperwork,Speeding                                      0.053619\n",
       "Lights                                                  0.050501\n",
       "License,Paperwork,Speeding                              0.032053\n",
       "Safe movement                                           0.031704\n",
       "License                                                 0.024793\n",
       "Seat belt,Speeding                                      0.021553\n",
       "Registration/plates                                     0.018569\n",
       "License,Lights                                          0.014628\n",
       "Truck                                                   0.012943\n",
       "Stop sign/light                                         0.012774\n",
       "Other                                                   0.011884\n",
       "License,Paperwork                                       0.011009\n",
       "Lights,Paperwork                                        0.009154\n",
       "Equipment,Speeding                                      0.008781\n",
       "Paperwork,Seat belt,Speeding                            0.008750\n",
       "License,Seat belt,Speeding                              0.008578\n",
       "License,Lights,Paperwork                                0.008452\n",
       "Equipment                                               0.008012\n",
       "License,Registration/plates                             0.005678\n",
       "License,Safe movement                                   0.005635\n",
       "Lights,Speeding                                         0.005425\n",
       "Registration/plates,Seat belt                           0.005367\n",
       "Safe movement,Speeding                                  0.005290\n",
       "License,Paperwork,Seat belt                             0.005116\n",
       "License,Seat belt                                       0.004421\n",
       "Paperwork,Registration/plates                           0.004222\n",
       "License,Paperwork,Registration/plates                   0.003857\n",
       "Equipment,License                                       0.003832\n",
       "                                                          ...   \n",
       "Other (non-mapped),Safe movement,Speeding               0.000004\n",
       "Lights,Seat belt,Truck                                  0.000004\n",
       "Equipment,Other (non-mapped),Seat belt                  0.000004\n",
       "Other (non-mapped),Registration/plates,Seat belt        0.000004\n",
       "DUI,Other,Truck                                         0.000004\n",
       "DUI,Equipment,Registration/plates                       0.000004\n",
       "Other (non-mapped),Registration/plates,Safe movement    0.000002\n",
       "Equipment,Other (non-mapped),Paperwork                  0.000002\n",
       "Equipment,Other (non-mapped),Truck                      0.000002\n",
       "Other (non-mapped),Safe movement,Seat belt              0.000002\n",
       "License,Other,Other (non-mapped)                        0.000002\n",
       "DUI,Other (non-mapped),Truck                            0.000002\n",
       "Paperwork,Registration/plates,Truck                     0.000002\n",
       "Speeding,Stop sign/light,Truck                          0.000002\n",
       "Other (non-mapped),Speeding,Truck                       0.000002\n",
       "DUI,Safe movement,Truck                                 0.000002\n",
       "License,Registration/plates,Truck                       0.000002\n",
       "Other,Other (non-mapped),Safe movement                  0.000002\n",
       "Other (non-mapped),Seat belt,Stop sign/light            0.000002\n",
       "DUI,Registration/plates,Safe movement                   0.000002\n",
       "Other (non-mapped),Stop sign/light                      0.000002\n",
       "Other,Stop sign/light,Truck                             0.000002\n",
       "Equipment,Safe movement,Truck                           0.000002\n",
       "License,Other (non-mapped),Truck                        0.000002\n",
       "DUI,Other (non-mapped),Paperwork                        0.000002\n",
       "Equipment,Lights,Other (non-mapped)                     0.000002\n",
       "DUI,Lights,Registration/plates                          0.000002\n",
       "Other (non-mapped),Paperwork,Safe movement              0.000002\n",
       "Other (non-mapped),Safe movement,Stop sign/light        0.000002\n",
       "DUI,Paperwork,Truck                                     0.000002\n",
       "Name: violation, Length: 330, dtype: float64"
      ]
     },
     "execution_count": 14,
     "metadata": {},
     "output_type": "execute_result"
    }
   ],
   "source": [
    "# cuando un hombre es detenido, que porcentaje es por exceso de velocidad?\n",
    "df[df['driver_gender'] == \"M\"][\"violation\"].value_counts(normalize=True)"
   ]
  },
  {
   "cell_type": "code",
   "execution_count": 15,
   "metadata": {},
   "outputs": [
    {
     "data": {
      "text/plain": [
       "Speeding                                             0.416364\n",
       "License,Speeding                                     0.080838\n",
       "Paperwork,Speeding                                   0.062131\n",
       "Lights                                               0.054774\n",
       "License,Paperwork,Speeding                           0.040507\n",
       "Safe movement                                        0.031616\n",
       "License                                              0.025337\n",
       "Registration/plates                                  0.021061\n",
       "Seat belt,Speeding                                   0.016674\n",
       "License,Lights                                       0.016021\n",
       "Stop sign/light                                      0.015383\n",
       "License,Paperwork                                    0.013107\n",
       "Lights,Paperwork                                     0.010626\n",
       "License,Lights,Paperwork                             0.009659\n",
       "Other                                                0.009301\n",
       "Paperwork,Seat belt,Speeding                         0.007208\n",
       "License,Seat belt,Speeding                           0.006846\n",
       "License,Registration/plates                          0.006462\n",
       "License,Safe movement                                0.006316\n",
       "Equipment,Speeding                                   0.005697\n",
       "Equipment                                            0.005208\n",
       "Safe movement,Speeding                               0.005059\n",
       "Paperwork,Registration/plates                        0.004809\n",
       "Lights,Speeding                                      0.004634\n",
       "License,Paperwork,Seat belt                          0.004380\n",
       "License,Paperwork,Registration/plates                0.004268\n",
       "Paperwork,Safe movement                              0.004141\n",
       "License,Stop sign/light                              0.003925\n",
       "Registration/plates,Seat belt                        0.003694\n",
       "License,Paperwork,Safe movement                      0.003660\n",
       "                                                       ...   \n",
       "Other,Truck                                          0.000007\n",
       "Safe movement,Truck                                  0.000007\n",
       "Lights,Registration/plates,Stop sign/light           0.000004\n",
       "License,Stop sign/light,Truck                        0.000004\n",
       "Other,Registration/plates,Stop sign/light            0.000004\n",
       "Registration/plates,Safe movement,Stop sign/light    0.000004\n",
       "Other,Safe movement,Truck                            0.000004\n",
       "Other (non-mapped),Registration/plates               0.000004\n",
       "Registration/plates,Speeding,Stop sign/light         0.000004\n",
       "Paperwork,Truck                                      0.000004\n",
       "Stop sign/light,Truck                                0.000004\n",
       "DUI,Registration/plates                              0.000004\n",
       "Equipment,Truck                                      0.000004\n",
       "DUI,Speeding,Stop sign/light                         0.000004\n",
       "License,Seat belt,Truck                              0.000004\n",
       "Safe movement,Speeding,Truck                         0.000004\n",
       "DUI,Registration/plates,Speeding                     0.000004\n",
       "License,Other (non-mapped),Safe movement             0.000004\n",
       "Other,Other (non-mapped),Speeding                    0.000004\n",
       "Equipment,Other,Safe movement                        0.000004\n",
       "Equipment,License,Truck                              0.000004\n",
       "Seat belt,Speeding,Truck                             0.000004\n",
       "DUI,Other (non-mapped),Safe movement                 0.000004\n",
       "License,Other,Other (non-mapped)                     0.000004\n",
       "Other (non-mapped),Safe movement                     0.000004\n",
       "DUI,Other (non-mapped),Speeding                      0.000004\n",
       "DUI,Equipment,Lights                                 0.000004\n",
       "DUI,Other (non-mapped),Paperwork                     0.000004\n",
       "Equipment,Other (non-mapped)                         0.000004\n",
       "Lights,Other (non-mapped),Paperwork                  0.000004\n",
       "Name: violation, Length: 273, dtype: float64"
      ]
     },
     "execution_count": 15,
     "metadata": {},
     "output_type": "execute_result"
    }
   ],
   "source": [
    "# cuando una mujer es detenida, que porcentaje es por exceso de velocidad?\n",
    "df[df['driver_gender'] == \"F\"][\"violation\"].value_counts(normalize=True)"
   ]
  },
  {
   "cell_type": "code",
   "execution_count": 16,
   "metadata": {},
   "outputs": [
    {
     "data": {
      "text/plain": [
       "driver_gender  violation                                           \n",
       "F              Speeding                                                0.416364\n",
       "               License,Speeding                                        0.080838\n",
       "               Paperwork,Speeding                                      0.062131\n",
       "               Lights                                                  0.054774\n",
       "               License,Paperwork,Speeding                              0.040507\n",
       "               Safe movement                                           0.031616\n",
       "               License                                                 0.025337\n",
       "               Registration/plates                                     0.021061\n",
       "               Seat belt,Speeding                                      0.016674\n",
       "               License,Lights                                          0.016021\n",
       "               Stop sign/light                                         0.015383\n",
       "               License,Paperwork                                       0.013107\n",
       "               Lights,Paperwork                                        0.010626\n",
       "               License,Lights,Paperwork                                0.009659\n",
       "               Other                                                   0.009301\n",
       "               Paperwork,Seat belt,Speeding                            0.007208\n",
       "               License,Seat belt,Speeding                              0.006846\n",
       "               License,Registration/plates                             0.006462\n",
       "               License,Safe movement                                   0.006316\n",
       "               Equipment,Speeding                                      0.005697\n",
       "               Equipment                                               0.005208\n",
       "               Safe movement,Speeding                                  0.005059\n",
       "               Paperwork,Registration/plates                           0.004809\n",
       "               Lights,Speeding                                         0.004634\n",
       "               License,Paperwork,Seat belt                             0.004380\n",
       "               License,Paperwork,Registration/plates                   0.004268\n",
       "               Paperwork,Safe movement                                 0.004141\n",
       "               License,Stop sign/light                                 0.003925\n",
       "               Registration/plates,Seat belt                           0.003694\n",
       "               License,Paperwork,Safe movement                         0.003660\n",
       "                                                                         ...   \n",
       "M              Other (non-mapped),Seat belt,Speeding                   0.000004\n",
       "               Other,Registration/plates,Stop sign/light               0.000004\n",
       "               Paperwork,Seat belt,Truck                               0.000004\n",
       "               Registration/plates,Speeding,Stop sign/light            0.000004\n",
       "               Registration/plates,Speeding,Truck                      0.000004\n",
       "               Safe movement,Stop sign/light,Truck                     0.000004\n",
       "               DUI,Lights,Registration/plates                          0.000002\n",
       "               DUI,Other (non-mapped),Paperwork                        0.000002\n",
       "               DUI,Other (non-mapped),Truck                            0.000002\n",
       "               DUI,Paperwork,Truck                                     0.000002\n",
       "               DUI,Registration/plates,Safe movement                   0.000002\n",
       "               DUI,Safe movement,Truck                                 0.000002\n",
       "               Equipment,Lights,Other (non-mapped)                     0.000002\n",
       "               Equipment,Other (non-mapped),Paperwork                  0.000002\n",
       "               Equipment,Other (non-mapped),Truck                      0.000002\n",
       "               Equipment,Safe movement,Truck                           0.000002\n",
       "               License,Other (non-mapped),Truck                        0.000002\n",
       "               License,Other,Other (non-mapped)                        0.000002\n",
       "               License,Registration/plates,Truck                       0.000002\n",
       "               Other (non-mapped),Paperwork,Safe movement              0.000002\n",
       "               Other (non-mapped),Registration/plates,Safe movement    0.000002\n",
       "               Other (non-mapped),Safe movement,Seat belt              0.000002\n",
       "               Other (non-mapped),Safe movement,Stop sign/light        0.000002\n",
       "               Other (non-mapped),Seat belt,Stop sign/light            0.000002\n",
       "               Other (non-mapped),Speeding,Truck                       0.000002\n",
       "               Other (non-mapped),Stop sign/light                      0.000002\n",
       "               Other,Other (non-mapped),Safe movement                  0.000002\n",
       "               Other,Stop sign/light,Truck                             0.000002\n",
       "               Paperwork,Registration/plates,Truck                     0.000002\n",
       "               Speeding,Stop sign/light,Truck                          0.000002\n",
       "Name: violation, Length: 603, dtype: float64"
      ]
     },
     "execution_count": 16,
     "metadata": {},
     "output_type": "execute_result"
    }
   ],
   "source": [
    "# porcentaje agrupado por genero\n",
    "df.groupby(\"driver_gender\")[\"violation\"].value_counts(normalize=True)"
   ]
  },
  {
   "cell_type": "code",
   "execution_count": 17,
   "metadata": {},
   "outputs": [
    {
     "data": {
      "text/plain": [
       "Index(['id', 'state', 'stop_date', 'stop_time', 'location_raw', 'county_name',\n",
       "       'county_fips', 'fine_grained_location', 'driver_gender',\n",
       "       'driver_age_raw', 'driver_age', 'driver_race_raw', 'driver_race',\n",
       "       'violation_raw', 'violation', 'search_conducted', 'search_type_raw',\n",
       "       'search_type', 'contraband_found', 'stop_outcome', 'is_arrested', 'lat',\n",
       "       'lon', 'ethnicity', 'city', 'out_of_state', 'vehicle_year',\n",
       "       'vehicle_make', 'vehicle_model', 'vehicle_style', 'search_reason',\n",
       "       'stop_outcome_raw'],\n",
       "      dtype='object')"
      ]
     },
     "execution_count": 17,
     "metadata": {},
     "output_type": "execute_result"
    }
   ],
   "source": [
    "# año con el número mayor de detenciones\n",
    "df.columns"
   ]
  },
  {
   "cell_type": "code",
   "execution_count": 18,
   "metadata": {
    "collapsed": true
   },
   "outputs": [],
   "source": [
    "# combinar celdas de fecha y tiempo\n",
    "combined = df[\"stop_date\"] + \" \" + df['stop_time']"
   ]
  },
  {
   "cell_type": "code",
   "execution_count": 19,
   "metadata": {
    "collapsed": true
   },
   "outputs": [],
   "source": [
    "# convertir a columna de tiempo\n",
    "df['fecha'] = pd.to_datetime(combined)"
   ]
  },
  {
   "cell_type": "code",
   "execution_count": 20,
   "metadata": {},
   "outputs": [
    {
     "data": {
      "text/plain": [
       "id                               object\n",
       "state                            object\n",
       "stop_date                        object\n",
       "stop_time                        object\n",
       "location_raw                     object\n",
       "county_name                      object\n",
       "county_fips                     float64\n",
       "fine_grained_location            object\n",
       "driver_gender                    object\n",
       "driver_age_raw                  float64\n",
       "driver_age                      float64\n",
       "driver_race_raw                  object\n",
       "driver_race                      object\n",
       "violation_raw                    object\n",
       "violation                        object\n",
       "search_conducted                   bool\n",
       "search_type_raw                  object\n",
       "search_type                      object\n",
       "contraband_found                 object\n",
       "stop_outcome                     object\n",
       "is_arrested                        bool\n",
       "lat                             float64\n",
       "lon                             float64\n",
       "ethnicity                        object\n",
       "city                             object\n",
       "out_of_state                     object\n",
       "vehicle_year                     object\n",
       "vehicle_make                     object\n",
       "vehicle_model                    object\n",
       "vehicle_style                    object\n",
       "search_reason                    object\n",
       "stop_outcome_raw                 object\n",
       "fecha                    datetime64[ns]\n",
       "dtype: object"
      ]
     },
     "execution_count": 20,
     "metadata": {},
     "output_type": "execute_result"
    }
   ],
   "source": [
    "# corroborar tipo de dato de la columna\n",
    "df.dtypes"
   ]
  },
  {
   "cell_type": "code",
   "execution_count": 21,
   "metadata": {},
   "outputs": [
    {
     "data": {
      "text/plain": [
       "2010.0    124285\n",
       "2011.0    122839\n",
       "2012.0    117487\n",
       "2015.0    115935\n",
       "2013.0    114283\n",
       "2014.0    109747\n",
       "2016.0    102097\n",
       "2009.0     18434\n",
       "Name: fecha, dtype: int64"
      ]
     },
     "execution_count": 21,
     "metadata": {},
     "output_type": "execute_result"
    }
   ],
   "source": [
    "# año con mayor número de detenciones\n",
    "df['fecha'].dt.year.value_counts()"
   ]
  },
  {
   "cell_type": "code",
   "execution_count": 22,
   "metadata": {},
   "outputs": [
    {
     "data": {
      "text/plain": [
       "9     13137\n",
       "8     12421\n",
       "7     12271\n",
       "5     11953\n",
       "10    11791\n",
       "3     10650\n",
       "6     10568\n",
       "4     10279\n",
       "2      9084\n",
       "11     7882\n",
       "1      7321\n",
       "12     6928\n",
       "Name: fecha, dtype: int64"
      ]
     },
     "execution_count": 22,
     "metadata": {},
     "output_type": "execute_result"
    }
   ],
   "source": [
    "# mes con mayor número de detenciones del 2010\n",
    "df[df['fecha'].dt.year == 2010]['fecha'].dt.month.value_counts()"
   ]
  },
  {
   "cell_type": "code",
   "execution_count": 23,
   "metadata": {},
   "outputs": [
    {
     "data": {
      "text/plain": [
       "1      7321\n",
       "2      9084\n",
       "3     10650\n",
       "4     10279\n",
       "5     11953\n",
       "6     10568\n",
       "7     12271\n",
       "8     12421\n",
       "9     13137\n",
       "10    11791\n",
       "11     7882\n",
       "12     6928\n",
       "Name: fecha, dtype: int64"
      ]
     },
     "execution_count": 23,
     "metadata": {},
     "output_type": "execute_result"
    }
   ],
   "source": [
    "# ordenar datos por índice\n",
    "df[df['fecha'].dt.year == 2010]['fecha'].dt.month.value_counts().sort_index()"
   ]
  },
  {
   "cell_type": "code",
   "execution_count": 24,
   "metadata": {},
   "outputs": [
    {
     "data": {
      "text/plain": [
       "<matplotlib.axes._subplots.AxesSubplot at 0x10dfa43c8>"
      ]
     },
     "execution_count": 24,
     "metadata": {},
     "output_type": "execute_result"
    },
    {
     "data": {
      "image/png": "[encoded data removed]",
      "text/plain": [
       "<matplotlib.figure.Figure at 0x11bb226a0>"
      ]
     },
     "metadata": {},
     "output_type": "display_data"
    }
   ],
   "source": [
    "# gráficar los datos (línea)\n",
    "df[df['fecha'].dt.year == 2010]['fecha'].dt.month.value_counts().sort_index().plot()"
   ]
  },
  {
   "cell_type": "code",
   "execution_count": 25,
   "metadata": {},
   "outputs": [
    {
     "data": {
      "text/plain": [
       "<matplotlib.axes._subplots.AxesSubplot at 0x102f80c88>"
      ]
     },
     "execution_count": 25,
     "metadata": {},
     "output_type": "execute_result"
    },
    {
     "data": {
      "image/png": "[encoded data removed]",
      "text/plain": [
       "<matplotlib.figure.Figure at 0x10dfb5e48>"
      ]
     },
     "metadata": {},
     "output_type": "display_data"
    }
   ],
   "source": [
    "# gráficar los datos (barra)\n",
    "df[df['fecha'].dt.year == 2010]['fecha'].dt.month.value_counts().sort_index().plot(kind=\"bar\")"
   ]
  },
  {
   "cell_type": "code",
   "execution_count": 26,
   "metadata": {},
   "outputs": [
    {
     "data": {
      "text/plain": [
       "<matplotlib.axes._subplots.AxesSubplot at 0x10dfb5780>"
      ]
     },
     "execution_count": 26,
     "metadata": {},
     "output_type": "execute_result"
    },
    {
     "data": {
      "image/png": "[encoded data removed]",
      "text/plain": [
       "<matplotlib.figure.Figure at 0x10c9b3860>"
      ]
     },
     "metadata": {},
     "output_type": "display_data"
    }
   ],
   "source": [
    "# gráficar los datos (barra horizontal)\n",
    "df[df['fecha'].dt.year == 2010]['fecha'].dt.month.value_counts().sort_index().plot(kind=\"barh\")"
   ]
  },
  {
   "cell_type": "code",
   "execution_count": 27,
   "metadata": {},
   "outputs": [
    {
     "data": {
      "text/plain": [
       "<matplotlib.axes._subplots.AxesSubplot at 0x112628c50>"
      ]
     },
     "execution_count": 27,
     "metadata": {},
     "output_type": "execute_result"
    },
    {
     "data": {
      "image/png": "[encoded data removed]",
      "text/plain": [
       "<matplotlib.figure.Figure at 0x10fea91d0>"
      ]
     },
     "metadata": {},
     "output_type": "display_data"
    }
   ],
   "source": [
    "# aplicando estilo\n",
    "plt.style.use(\"seaborn\")\n",
    "# gráficar los datos (barra horizontal)\n",
    "df[df['fecha'].dt.year == 2010]['fecha'].dt.month.value_counts().sort_index().plot(kind=\"barh\")"
   ]
  },
  {
   "cell_type": "code",
   "execution_count": 28,
   "metadata": {},
   "outputs": [
    {
     "data": {
      "text/plain": [
       "<matplotlib.axes._subplots.AxesSubplot at 0x1276da0f0>"
      ]
     },
     "execution_count": 28,
     "metadata": {},
     "output_type": "execute_result"
    },
    {
     "data": {
      "image/png": "[encoded data removed]",
      "text/plain": [
       "<matplotlib.figure.Figure at 0x10febe588>"
      ]
     },
     "metadata": {},
     "output_type": "display_data"
    }
   ],
   "source": [
    "# gráficar los datos (barra y título)\n",
    "df[df['fecha'].dt.year == 2010]['fecha'].dt.month.value_counts().sort_index().plot(kind=\"barh\", title=\"Detenciones 2010\")"
   ]
  },
  {
   "cell_type": "code",
   "execution_count": 29,
   "metadata": {},
   "outputs": [
    {
     "data": {
      "text/plain": [
       "<matplotlib.axes._subplots.AxesSubplot at 0x110c85780>"
      ]
     },
     "execution_count": 29,
     "metadata": {},
     "output_type": "execute_result"
    },
    {
     "data": {
      "image/png": "[encoded data removed]",
      "text/plain": [
       "<matplotlib.figure.Figure at 0x11263b588>"
      ]
     },
     "metadata": {},
     "output_type": "display_data"
    }
   ],
   "source": [
    "# histograma de edades\n",
    "df['driver_age'].hist(bins=20)"
   ]
  },
  {
   "cell_type": "markdown",
   "metadata": {},
   "source": [
    "# Introducción a Matplotlib\n",
    "\n",
    "### Instalación\n",
    "\n",
    "`conda install matplotlib`\n",
    "\n",
    "Matplotlib nos permite reproducir graficas programaticamente. como recomencion pueden checar la pagina oficial de Matplotlib en http://matplotlib.org/"
   ]
  },
  {
   "cell_type": "code",
   "execution_count": 30,
   "metadata": {
    "collapsed": true
   },
   "outputs": [],
   "source": [
    "# librería\n",
    "import matplotlib.pyplot as plt"
   ]
  },
  {
   "cell_type": "code",
   "execution_count": 31,
   "metadata": {
    "collapsed": true
   },
   "outputs": [],
   "source": [
    "# para visualizar las gráficas en línea ocupamos el siguiente código:\n",
    "%matplotlib inline"
   ]
  },
  {
   "cell_type": "markdown",
   "metadata": {},
   "source": [
    "### Ejemplo básico"
   ]
  },
  {
   "cell_type": "code",
   "execution_count": 32,
   "metadata": {
    "collapsed": true
   },
   "outputs": [],
   "source": [
    "# Utilizando dos arreglos de numpy, podemos generar una grafica\n",
    "import numpy as np\n",
    "x = np.linspace(0, 5, 11)\n",
    "y = x ** 2"
   ]
  },
  {
   "cell_type": "markdown",
   "metadata": {},
   "source": [
    "### Comandos básicos de matplotlib\n",
    "Podemos crear una simple grafica de linea utilizando los siguientes comandos"
   ]
  },
  {
   "cell_type": "code",
   "execution_count": 33,
   "metadata": {},
   "outputs": [
    {
     "data": {
      "image/png": "[encoded data removed]",
      "text/plain": [
       "<matplotlib.figure.Figure at 0x110d0d588>"
      ]
     },
     "metadata": {},
     "output_type": "display_data"
    }
   ],
   "source": [
    "plt.plot(x, y, 'r') # 'r' es el color rojo\n",
    "plt.xlabel('Titulo eje X')\n",
    "plt.ylabel('Titulo eje Y')\n",
    "plt.title('Titulo de la grafica')\n",
    "plt.show()"
   ]
  },
  {
   "cell_type": "markdown",
   "metadata": {},
   "source": [
    "### Crear varias gráficas en el mismo espacio"
   ]
  },
  {
   "cell_type": "code",
   "execution_count": 34,
   "metadata": {},
   "outputs": [
    {
     "data": {
      "text/plain": [
       "[<matplotlib.lines.Line2D at 0x10f19f438>]"
      ]
     },
     "execution_count": 34,
     "metadata": {},
     "output_type": "execute_result"
    },
    {
     "data": {
      "image/png": "[encoded data removed]",
      "text/plain": [
       "<matplotlib.figure.Figure at 0x110d8f6d8>"
      ]
     },
     "metadata": {},
     "output_type": "display_data"
    }
   ],
   "source": [
    "# plt.subplot(nrows, ncols, plot_number)\n",
    "plt.subplot(1,2,1)\n",
    "plt.plot(x, y, 'r--') # Opciones de color\n",
    "plt.subplot(1,2,2)\n",
    "plt.plot(y, x, 'g*-')"
   ]
  },
  {
   "cell_type": "markdown",
   "metadata": {},
   "source": [
    "## Matplotlib orientado a objetos\n",
    "\n",
    "### Introduccion al metodo orientado a objetos\n",
    "\n",
    "El propósito de utilizar un método orientado a objeto es generar un objeto figura y de ahí solo mandar llamar los métodos o atributos del objeto. Este método es más efectivo al momento de manipular varias gráficas\n",
    "\n",
    "Comencemos creando la instancia de figura. Posteriormente crearemos los ejes"
   ]
  },
  {
   "cell_type": "code",
   "execution_count": 35,
   "metadata": {},
   "outputs": [
    {
     "data": {
      "text/plain": [
       "Text(0.5,1,'Titulo')"
      ]
     },
     "execution_count": 35,
     "metadata": {},
     "output_type": "execute_result"
    },
    {
     "data": {
      "image/png": "[encoded data removed]",
      "text/plain": [
       "<matplotlib.figure.Figure at 0x10f1c1c18>"
      ]
     },
     "metadata": {},
     "output_type": "display_data"
    }
   ],
   "source": [
    "# Crear Figura (espacio vacio)\n",
    "fig = plt.figure()\n",
    "\n",
    "# Agregar ejes\n",
    "axes = fig.add_axes([0.1, 0.1, 0.8, 0.8]) # izquierda, abajo, ancho, alto (rango de 0 a 1)\n",
    "\n",
    "# Graficar los ejes\n",
    "axes.plot(x, y, 'b')\n",
    "axes.set_xlabel('Etiqueta X ') # Utilizamos set_ al principio de los metodos\n",
    "axes.set_ylabel('Etiqueta Y')\n",
    "axes.set_title('Titulo')"
   ]
  },
  {
   "cell_type": "markdown",
   "metadata": {},
   "source": [
    "**NOTA:** El código es un poco más complicado, pero tiene la ventaja de que tenemos el control de donde colocar las gráficas."
   ]
  },
  {
   "cell_type": "code",
   "execution_count": 36,
   "metadata": {},
   "outputs": [
    {
     "data": {
      "text/plain": [
       "Text(0.5,1,'Eje 2 Título')"
      ]
     },
     "execution_count": 36,
     "metadata": {},
     "output_type": "execute_result"
    },
    {
     "data": {
      "image/png": "[encoded data removed]",
      "text/plain": [
       "<matplotlib.figure.Figure at 0x110d8fa58>"
      ]
     },
     "metadata": {},
     "output_type": "display_data"
    }
   ],
   "source": [
    "# Crear espacio en blanco\n",
    "fig = plt.figure()\n",
    "\n",
    "axes1 = fig.add_axes([0.1, 0.1, 0.8, 0.8]) # ejes principales (x,y, ancho, alto)\n",
    "axes2 = fig.add_axes([0.2, 0.5, 0.4, 0.3]) # ejes insertados (x,y, ancho, alto)\n",
    "\n",
    "# Figura grande eje 1\n",
    "axes1.plot(x, y, 'b')\n",
    "axes1.set_xlabel('X_etiqueta_eje1')\n",
    "axes1.set_ylabel('Y_etiqueta_eje1')\n",
    "axes1.set_title('Eje 1 Título')\n",
    "\n",
    "# Figura insertada eje 2\n",
    "axes2.plot(y, x, 'r')\n",
    "axes2.set_xlabel('X_etiqueta_eje2')\n",
    "axes2.set_ylabel('Y_etiqueta_eje2')\n",
    "axes2.set_title('Eje 2 Título')"
   ]
  },
  {
   "cell_type": "markdown",
   "metadata": {},
   "source": [
    "### subplots()\n",
    "\n",
    "El objeto plt.subplots() actuara como un manejador automatico de ejes\n",
    "\n",
    "Uso basico:"
   ]
  },
  {
   "cell_type": "code",
   "execution_count": 37,
   "metadata": {},
   "outputs": [
    {
     "data": {
      "text/plain": [
       "Text(0.5,1,'Título')"
      ]
     },
     "execution_count": 37,
     "metadata": {},
     "output_type": "execute_result"
    },
    {
     "data": {
      "image/png": "[encoded data removed]",
      "text/plain": [
       "<matplotlib.figure.Figure at 0x1127fa320>"
      ]
     },
     "metadata": {},
     "output_type": "display_data"
    }
   ],
   "source": [
    "# Usamos una sintaxis similar a plt.figure() excepto que utilizamos una tupla para tomar los valores de fig y axes\n",
    "fig, axes = plt.subplots()\n",
    "\n",
    "# Utilizamos el objeto axes para agregar las graficas\n",
    "axes.plot(x, y, 'r')\n",
    "axes.set_xlabel('x')\n",
    "axes.set_ylabel('y')\n",
    "axes.set_title('Título')"
   ]
  },
  {
   "cell_type": "markdown",
   "metadata": {},
   "source": [
    "**NOTA:** De esta manera se puede  especificar el numero de filas y columnas a crear al momento de crear el objeto"
   ]
  },
  {
   "cell_type": "code",
   "execution_count": 38,
   "metadata": {},
   "outputs": [
    {
     "data": {
      "image/png": "[encoded data removed]",
      "text/plain": [
       "<matplotlib.figure.Figure at 0x10e68eb00>"
      ]
     },
     "metadata": {},
     "output_type": "display_data"
    }
   ],
   "source": [
    "# Espacio vacio de 1 por 2 subplots\n",
    "fig, axes = plt.subplots(nrows=1, ncols=2)"
   ]
  },
  {
   "cell_type": "code",
   "execution_count": 39,
   "metadata": {},
   "outputs": [
    {
     "data": {
      "text/plain": [
       "array([<matplotlib.axes._subplots.AxesSubplot object at 0x10f32a9b0>,\n",
       "       <matplotlib.axes._subplots.AxesSubplot object at 0x10f416c88>], dtype=object)"
      ]
     },
     "execution_count": 39,
     "metadata": {},
     "output_type": "execute_result"
    }
   ],
   "source": [
    "# Los ejes es un arreglo de ejes donde se puede graficar\n",
    "axes"
   ]
  },
  {
   "cell_type": "markdown",
   "metadata": {},
   "source": [
    "## Figure size, aspect ratio and DPI\n",
    "\n",
    "Matplotlib permite el uso de aspect ratio, DPI and figure size para ser especificado al momento de crear el objeto. Podemos utilizar ** `figsize` ** y ** `dpi` ** comandos\n",
    "* `figsize:` es una tupla que nos permite determinar el ancho y la altura de la figura en pulgadas\n",
    "* `dpi:` son los puntos por pulgada (pixel per inch). \n",
    "\n",
    "Por ejemplo:"
   ]
  },
  {
   "cell_type": "code",
   "execution_count": 40,
   "metadata": {},
   "outputs": [
    {
     "data": {
      "text/plain": [
       "<matplotlib.figure.Figure at 0x112111470>"
      ]
     },
     "metadata": {},
     "output_type": "display_data"
    }
   ],
   "source": [
    "fig = plt.figure(figsize=(8,4), dpi=100)"
   ]
  },
  {
   "cell_type": "code",
   "execution_count": 41,
   "metadata": {},
   "outputs": [
    {
     "data": {
      "image/png": "[encoded data removed]",
      "text/plain": [
       "<matplotlib.figure.Figure at 0x10f3f6198>"
      ]
     },
     "metadata": {},
     "output_type": "display_data"
    }
   ],
   "source": [
    "# Estos argumentos se pueden pasar al administrador del layout como una funcion subplots:\n",
    "fig, axes = plt.subplots(figsize=(12,3))\n",
    "\n",
    "axes.plot(x, y, 'r')\n",
    "axes.set_xlabel('x')\n",
    "axes.set_ylabel('y')\n",
    "axes.set_title('Titulo');"
   ]
  },
  {
   "cell_type": "markdown",
   "metadata": {},
   "source": [
    "### Guardar figuras\n",
    "Matplotlib puede generar imagenes de alta calidad, incluyendo PNG, JPG, EPS, SVG, PGF and PDF.\n",
    "\n",
    "Para guardar la figura en un archivo utilizamos el metodo ** `savefig`** en la clase ** `Figure` **:"
   ]
  },
  {
   "cell_type": "code",
   "execution_count": 42,
   "metadata": {
    "collapsed": true
   },
   "outputs": [],
   "source": [
    "# guardar la imagen como png\n",
    "fig.savefig(\"NombreDelArchivo.png\")"
   ]
  },
  {
   "cell_type": "code",
   "execution_count": 43,
   "metadata": {
    "collapsed": true
   },
   "outputs": [],
   "source": [
    "# En este metodo podemos opcionalmente especificar el DPI y seleccionar los diferentes formatos:\n",
    "fig.savefig(\"NombreDelArchivo.png\", dpi=200)"
   ]
  },
  {
   "cell_type": "markdown",
   "metadata": {},
   "source": [
    "## Legendas, etiquetas y titulos\n",
    "Ahora que ya tenemos una idea de lo basico al momento de crear una figura, vamos a ver como podemos decorar nuestras gráficas.\n",
    "\n",
    "### Título de la figura\n",
    "\n",
    "Un titulo puede ser agregado a cada eje de la figura para emplearlo utiliza el metodo ** `set_title` **:\n",
    "\n",
    "        ax.set_title(\"title\");\n",
    "\n",
    "### Etiquetas de los ejes\n",
    "\n",
    "Igual que con los metodos ** `set_xlabel` ** y ** `set_ylabel` ** podemos agregar etiquetas para X y Y\n",
    "\n",
    "        ax.set_xlabel(\"x\")\n",
    "        ax.set_ylabel(\"y\");\n",
    "\n",
    "### Legendas\n",
    "Se puede utilizar el metodo **legend** para mostrar los elementos de la figura"
   ]
  },
  {
   "cell_type": "code",
   "execution_count": 47,
   "metadata": {},
   "outputs": [
    {
     "data": {
      "text/plain": [
       "<matplotlib.legend.Legend at 0x1128567b8>"
      ]
     },
     "execution_count": 47,
     "metadata": {},
     "output_type": "execute_result"
    },
    {
     "data": {
      "image/png": "[encoded data removed]",
      "text/plain": [
       "<matplotlib.figure.Figure at 0x10f2e69e8>"
      ]
     },
     "metadata": {},
     "output_type": "display_data"
    }
   ],
   "source": [
    "# declarar la figura\n",
    "fig = plt.figure()\n",
    "\n",
    "# declarar el eje\n",
    "ax = fig.add_axes([0,0,1,1])\n",
    "\n",
    "# título\n",
    "ax.set_title(\"Título de la gráfica\");\n",
    "\n",
    "# títulos ejes\n",
    "ax.set_xlabel(\"x\")\n",
    "ax.set_ylabel(\"y\");\n",
    "\n",
    "# configurar cada una de las líneas\n",
    "ax.plot(x, x**2, label=\"x**2\")\n",
    "ax.plot(x, x**3, label=\"x**3\")\n",
    "ax.legend()"
   ]
  },
  {
   "cell_type": "code",
   "execution_count": 48,
   "metadata": {},
   "outputs": [
    {
     "data": {
      "image/png": "[encoded data removed]",
      "text/plain": [
       "<matplotlib.figure.Figure at 0x10f2e69e8>"
      ]
     },
     "execution_count": 48,
     "metadata": {},
     "output_type": "execute_result"
    }
   ],
   "source": [
    "# Si deseamos colocar la leyenda a nuestro gusto podemos utilizar los siguientes atributos\n",
    "\n",
    "# Opciones\n",
    "ax.legend(loc=1) # upper right corner\n",
    "ax.legend(loc=2) # upper left corner\n",
    "ax.legend(loc=3) # lower left corner\n",
    "ax.legend(loc=4) # lower right corner\n",
    "\n",
    "\n",
    "# La opcion mas comun\n",
    "ax.legend(loc=0) # Matplotlib decide por default\n",
    "fig"
   ]
  },
  {
   "cell_type": "markdown",
   "metadata": {},
   "source": [
    "### Ajustar colores, tipo y tamano de linea\n",
    "\n",
    "Matplotlib permite modificar a modo los colores el tipo y tamano de linea"
   ]
  },
  {
   "cell_type": "code",
   "execution_count": 49,
   "metadata": {},
   "outputs": [
    {
     "data": {
      "text/plain": [
       "[<matplotlib.lines.Line2D at 0x1128ec780>]"
      ]
     },
     "execution_count": 49,
     "metadata": {},
     "output_type": "execute_result"
    },
    {
     "data": {
      "image/png": "[encoded data removed]",
      "text/plain": [
       "<matplotlib.figure.Figure at 0x112111f60>"
      ]
     },
     "metadata": {},
     "output_type": "display_data"
    }
   ],
   "source": [
    "# MATLAB Sintaxis\n",
    "fig, ax = plt.subplots()\n",
    "ax.plot(x, x**2, 'b.-') # linea azul con puntos\n",
    "ax.plot(x, x**3, 'g--') # linea verde de lineas"
   ]
  },
  {
   "cell_type": "markdown",
   "metadata": {},
   "source": [
    "### Colores con el parametro color= parameter\n",
    "Podemos definir los colores por medio de sus nombres o los codigos RGB hex y opcionalmente proporcionar un valor alpha con los metodos `color` y `alpha`. Alpha indica la opacidad.\n"
   ]
  },
  {
   "cell_type": "code",
   "execution_count": 50,
   "metadata": {},
   "outputs": [
    {
     "data": {
      "text/plain": [
       "[<matplotlib.lines.Line2D at 0x1182b2780>]"
      ]
     },
     "execution_count": 50,
     "metadata": {},
     "output_type": "execute_result"
    },
    {
     "data": {
      "image/png": "[encoded data removed]",
      "text/plain": [
       "<matplotlib.figure.Figure at 0x1128b6eb8>"
      ]
     },
     "metadata": {},
     "output_type": "display_data"
    }
   ],
   "source": [
    "fig, ax = plt.subplots()\n",
    "\n",
    "ax.plot(x, x+1, color=\"blue\", alpha=0.5) # medio transparente\n",
    "ax.plot(x, x+2, color=\"#8B008B\")        # RGB hex code\n",
    "ax.plot(x, x+3, color=\"#FF8C00\")        # RGB hex code "
   ]
  },
  {
   "cell_type": "markdown",
   "metadata": {},
   "source": [
    "### Grid\n",
    "Utilizando el método de `grid` podemos activar o desactivar  las líneas de la malla, para una mejor visualización de los datos."
   ]
  },
  {
   "cell_type": "code",
   "execution_count": 51,
   "metadata": {},
   "outputs": [
    {
     "data": {
      "image/png": "[encoded data removed]",
      "text/plain": [
       "<matplotlib.figure.Figure at 0x1182bb908>"
      ]
     },
     "metadata": {},
     "output_type": "display_data"
    }
   ],
   "source": [
    "fig, axes = plt.subplots(1, 2, figsize=(10,3))\n",
    "\n",
    "# default grid appearance\n",
    "axes[0].plot(x, x**2, x, x**3, lw=2)\n",
    "axes[0].grid(True)\n",
    "\n",
    "# custom grid appearance\n",
    "axes[1].plot(x, x**2, x, x**3, lw=2)\n",
    "axes[1].grid(color='b', alpha=0.5, linestyle='dashed', linewidth=0.5)"
   ]
  },
  {
   "cell_type": "markdown",
   "metadata": {},
   "source": [
    "### Doble eje\n",
    "A veces se requiere utilizar dos ejes de datos. Ejemplo cuando tenemos curvas con diferentes unidades. En este caso en particular utilizaremos los métodos de `twinx` y `twiny`"
   ]
  },
  {
   "cell_type": "code",
   "execution_count": 52,
   "metadata": {},
   "outputs": [
    {
     "data": {
      "image/png": "[encoded data removed]",
      "text/plain": [
       "<matplotlib.figure.Figure at 0x1183dd1d0>"
      ]
     },
     "metadata": {},
     "output_type": "display_data"
    }
   ],
   "source": [
    "fig, ax1 = plt.subplots()\n",
    "\n",
    "ax1.plot(x, x**2, lw=2, color=\"blue\")\n",
    "ax1.set_ylabel(r\"area $(m^2)$\", fontsize=18, color=\"blue\")\n",
    "for label in ax1.get_yticklabels():\n",
    "    label.set_color(\"blue\")\n",
    "    \n",
    "ax2 = ax1.twinx()\n",
    "ax2.plot(x, x**3, lw=2, color=\"red\")\n",
    "ax2.set_ylabel(r\"volume $(m^3)$\", fontsize=18, color=\"red\")\n",
    "for label in ax2.get_yticklabels():\n",
    "    label.set_color(\"red\")"
   ]
  },
  {
   "cell_type": "markdown",
   "metadata": {},
   "source": [
    "### Anotación de Texto\n",
    "Para agregar un texto sobre una gráfica en matplotlib se puede lograr mediante el uso del método `text`."
   ]
  },
  {
   "cell_type": "code",
   "execution_count": 68,
   "metadata": {},
   "outputs": [
    {
     "data": {
      "image/png": "[encoded data removed]",
      "text/plain": [
       "<matplotlib.figure.Figure at 0x12bf27cc0>"
      ]
     },
     "metadata": {},
     "output_type": "display_data"
    }
   ],
   "source": [
    "fig, ax = plt.subplots()\n",
    "\n",
    "x = np.arange(-10,10)\n",
    "\n",
    "ax.plot(x, x**2, x, x**3)\n",
    "\n",
    "ax.text(-10, 200, r\"$y=x^2$\", fontsize=20, color=\"blue\")\n",
    "ax.text(-7.5, -750, r\"$y=x^3$\", fontsize=20, color=\"green\");"
   ]
  },
  {
   "cell_type": "markdown",
   "metadata": {},
   "source": [
    "## Gráficas especiales\n",
    "Existen diferentes típos de gráficas: Barra, histogramas, Puntos y más"
   ]
  },
  {
   "cell_type": "markdown",
   "metadata": {},
   "source": [
    "### Línea"
   ]
  },
  {
   "cell_type": "code",
   "execution_count": 76,
   "metadata": {},
   "outputs": [
    {
     "data": {
      "text/plain": [
       "[<matplotlib.lines.Line2D at 0x128505f60>]"
      ]
     },
     "execution_count": 76,
     "metadata": {},
     "output_type": "execute_result"
    },
    {
     "data": {
      "image/png": "[encoded data removed]",
      "text/plain": [
       "<matplotlib.figure.Figure at 0x1263956a0>"
      ]
     },
     "metadata": {},
     "output_type": "display_data"
    }
   ],
   "source": [
    "x = np.arange(10) ** 2\n",
    "y = np.arange(10) ** 3\n",
    "plt.plot(x,y)"
   ]
  },
  {
   "cell_type": "markdown",
   "metadata": {},
   "source": [
    "### Puntos (Scatter)"
   ]
  },
  {
   "cell_type": "code",
   "execution_count": 78,
   "metadata": {},
   "outputs": [
    {
     "data": {
      "text/plain": [
       "<matplotlib.collections.PathCollection at 0x1285c1080>"
      ]
     },
     "execution_count": 78,
     "metadata": {},
     "output_type": "execute_result"
    },
    {
     "data": {
      "image/png": "[encoded data removed]",
      "text/plain": [
       "<matplotlib.figure.Figure at 0x128542c18>"
      ]
     },
     "metadata": {},
     "output_type": "display_data"
    }
   ],
   "source": [
    "plt.scatter(x,y)"
   ]
  },
  {
   "cell_type": "markdown",
   "metadata": {},
   "source": [
    "### Barras (Bar)"
   ]
  },
  {
   "cell_type": "code",
   "execution_count": 79,
   "metadata": {
    "scrolled": true
   },
   "outputs": [
    {
     "data": {
      "text/plain": [
       "<Container object of 10 artists>"
      ]
     },
     "execution_count": 79,
     "metadata": {},
     "output_type": "execute_result"
    },
    {
     "data": {
      "image/png": "[encoded data removed]",
      "text/plain": [
       "<matplotlib.figure.Figure at 0x1285570b8>"
      ]
     },
     "metadata": {},
     "output_type": "display_data"
    }
   ],
   "source": [
    "plt.bar(x,y)"
   ]
  },
  {
   "cell_type": "code",
   "execution_count": 81,
   "metadata": {},
   "outputs": [],
   "source": [
    "## Ejercicio Gráficas"
   ]
  },
  {
   "cell_type": "code",
   "execution_count": null,
   "metadata": {
    "collapsed": true
   },
   "outputs": [],
   "source": [
    "# leer dataframe\n",
    "df = pd.read_csv(\"data/estado1_5.csv\")"
   ]
  },
  {
   "cell_type": "code",
   "execution_count": null,
   "metadata": {},
   "outputs": [],
   "source": [
    "# estructura del df\n",
    "df.head()"
   ]
  },
  {
   "cell_type": "code",
   "execution_count": null,
   "metadata": {},
   "outputs": [],
   "source": [
    "# información del df\n",
    "df.info()"
   ]
  },
  {
   "cell_type": "code",
   "execution_count": null,
   "metadata": {
    "collapsed": true
   },
   "outputs": [],
   "source": [
    "# crear columna de tiempo\n",
    "df[\"fecha_f\"] = pd.to_datetime(df['fecha'])"
   ]
  },
  {
   "cell_type": "code",
   "execution_count": null,
   "metadata": {},
   "outputs": [],
   "source": [
    "# crear la figura para la gráfica\n",
    "fig = plt.figure()\n",
    "ax = fig.add_subplot(111)"
   ]
  },
  {
   "cell_type": "code",
   "execution_count": null,
   "metadata": {},
   "outputs": [],
   "source": [
    "# configurar tamaño de la gráfica\n",
    "fig = plt.figure(figsize=(15,5))\n",
    "ax = fig.add_subplot(111)"
   ]
  },
  {
   "cell_type": "code",
   "execution_count": null,
   "metadata": {},
   "outputs": [],
   "source": [
    "\n",
    "\n",
    "\n"
   ]
  },
  {
   "cell_type": "code",
   "execution_count": null,
   "metadata": {
    "collapsed": true
   },
   "outputs": [],
   "source": []
  }
 ],
 "metadata": {
  "kernelspec": {
   "display_name": "Python 3",
   "language": "python",
   "name": "python3"
  },
  "language_info": {
   "codemirror_mode": {
    "name": "ipython",
    "version": 3
   },
   "file_extension": ".py",
   "mimetype": "text/x-python",
   "name": "python",
   "nbconvert_exporter": "python",
   "pygments_lexer": "ipython3",
   "version": "3.6.4"
  }
 },
 "nbformat": 4,
 "nbformat_minor": 2
}
