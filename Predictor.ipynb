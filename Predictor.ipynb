{
 "cells": [
  {
   "cell_type": "code",
   "execution_count": null,
   "metadata": {},
   "outputs": [],
   "source": [
    "# librerías\n",
    "import pandas as pd\n",
    "import numpy as np\n",
    "import matplotlib.pyplot as plt\n",
    "from sklearn.preprocessing import PolynomialFeatures\n",
    "from sklearn.linear_model import LinearRegression\n",
    "from sklearn.model_selection import train_test_split\n",
    "from sklearn.svm import SVR\n",
    "import seaborn as sns\n",
    "%matplotlib inline"
   ]
  },
  {
   "cell_type": "code",
   "execution_count": null,
   "metadata": {},
   "outputs": [],
   "source": [
    "df = pd.read_csv(\"data/estado1.csv\")\n",
    "df.head()"
   ]
  },
  {
   "cell_type": "code",
   "execution_count": null,
   "metadata": {},
   "outputs": [],
   "source": [
    "# valores solo de la estación mirinda\n",
    "df_mirinda = df.where(df[\"nombre\"] == \"La Mirinda\").dropna()\n",
    "#df_mirinda = df_mirinda.iloc[:30,:]\n",
    "#df_mirinda"
   ]
  },
  {
   "cell_type": "code",
   "execution_count": null,
   "metadata": {},
   "outputs": [],
   "source": [
    "def predictor(dates, values, x):\n",
    "    #dates = np.reshape(dates, len(dates), 1)\n",
    "    \n",
    "    svr_lin = SVR(kernel=\"linear\", C=1e3)\n",
    "    svr_poly = SVR(kernel = \"poly\", C=1e3, degree=2)\n",
    "    svr_rbf = SVR(kernel=\"rbf\", C=1e3, gamma=0.1)\n",
    "    \n",
    "    svr_lin.fit(dates, values)\n",
    "    svr_poly.fit(dates, values)\n",
    "    svr_rbf.fit(dates, values)\n",
    "    \n",
    "    plt.scatter(dates, values, color=\"black\", label=\"Data\")\n",
    "    plt.plot(dates, svr_rbf.predict(dates), color=\"red\", label=\"RBF model\")\n",
    "    plt.plot(dates, svr_lin.predict(dates), color=\"green\", label=\"Linear model\")\n",
    "    plt.plot(dates, svr_poly.predict(dates), color=\"blue\", label=\"Polynomial model\")\n",
    "    \n",
    "    plt.xlabel(\"Date\")\n",
    "    plt.ylabel(\"Values\")\n",
    "    plt.title(\"Support Vector Regression\")\n",
    "    plt.legend()\n",
    "    \n",
    "    return svr_rbf.predict(x)[0], svr_lin(x)[0], svr_poly.predict(x)[0]"
   ]
  },
  {
   "cell_type": "code",
   "execution_count": null,
   "metadata": {},
   "outputs": [],
   "source": [
    "X = df_mirinda.index.values.reshape(-1,1)\n",
    "y = df_mirinda.tmax.values"
   ]
  },
  {
   "cell_type": "code",
   "execution_count": null,
   "metadata": {},
   "outputs": [],
   "source": [
    "#value = predictor(X,y, 90)"
   ]
  },
  {
   "cell_type": "code",
   "execution_count": null,
   "metadata": {},
   "outputs": [],
   "source": [
    "svr_lin = SVR(kernel=\"linear\", C=1e3)\n",
    "svr_poly = SVR(kernel = \"poly\", C=1e3, degree=3)\n",
    "svr_rbf = SVR(kernel=\"rbf\", C=1e3, gamma=0.1)"
   ]
  },
  {
   "cell_type": "code",
   "execution_count": null,
   "metadata": {},
   "outputs": [],
   "source": [
    "svr_lin.fit(X, y)"
   ]
  },
  {
   "cell_type": "code",
   "execution_count": null,
   "metadata": {},
   "outputs": [],
   "source": [
    "svr_poly.fit(X, y)"
   ]
  },
  {
   "cell_type": "code",
   "execution_count": null,
   "metadata": {},
   "outputs": [],
   "source": [
    "svr_rbf.fit(X, y)"
   ]
  },
  {
   "cell_type": "code",
   "execution_count": null,
   "metadata": {},
   "outputs": [],
   "source": [
    "fig = plt.figure(figsize=(8,8))\n",
    "\n",
    "plt.scatter(X, y, color=\"black\", label=\"Data\")\n",
    "plt.plot(X, svr_rbf.predict(X), color=\"red\", label=\"RBF model\")\n",
    "plt.plot(X, svr_poly.predict(X), color=\"blue\", label=\"Polynomial model\")\n",
    "plt.plot(X, svr_lin.predict(X), color=\"green\", label=\"Linear model\")\n",
    "\n",
    "\n",
    "plt.xlabel(\"Date\")\n",
    "plt.ylabel(\"Values\")\n",
    "plt.title(\"Support Vector Regression\")\n",
    "plt.legend()"
   ]
  },
  {
   "cell_type": "code",
   "execution_count": null,
   "metadata": {},
   "outputs": [],
   "source": []
  }
 ],
 "metadata": {
  "kernelspec": {
   "display_name": "Python 3",
   "language": "python",
   "name": "python3"
  },
  "language_info": {
   "codemirror_mode": {
    "name": "ipython",
    "version": 3
   },
   "file_extension": ".py",
   "mimetype": "text/x-python",
   "name": "python",
   "nbconvert_exporter": "python",
   "pygments_lexer": "ipython3",
   "version": "3.6.5"
  }
 },
 "nbformat": 4,
 "nbformat_minor": 2
}
