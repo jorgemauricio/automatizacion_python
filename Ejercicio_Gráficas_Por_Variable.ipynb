{
 "cells": [
  {
   "cell_type": "markdown",
   "metadata": {},
   "source": [
    "# Taller de Automatización de Procesos con Python\n",
    "\n",
    "## Ejercicio de gráficas por variable\n",
    "\n",
    "### GitHub repository: https://github.com/jorgemauricio/automatizacion_python\n",
    "\n",
    "### Instructor: Jorge Mauricio"
   ]
  },
  {
   "cell_type": "markdown",
   "metadata": {},
   "source": [
    "### Actividad\n",
    "Gráficar cada una de las variables para cada una de las estaciones que se incluyen en la base de datos `estado1_5.csv`\n",
    "\n",
    "Ejem:\n",
    "\n",
    "![title](img/cepab_prec.png)\n",
    "\n",
    "La base de datos contiene la siguiente información:\n",
    "- numero : Número de la estación\n",
    "- fecha : Fecha del dato AAAA-MM-DD HH:MM:S\n",
    "- nombre : Nombre de la estación\n",
    "- latitud : Latitud de la estación\n",
    "- longitud : Longitud de la estación\n",
    "- prec : Precipitación (mm)\n",
    "- tmax : Temperatura máxima (ºC)\n",
    "- tmed : Temperatura media (ºC)\n",
    "- tmin : Temperatura mínima (ºC)\n",
    "- velvmax : Velocidad máxima (km/h)\n",
    "- velv : velocidad promedio (km/h)\n",
    "- dirv : Dirección del viento (ºAz)\n",
    "- radg : Radiación global (w/m2)\n",
    "- humr : Humedad Relativa (%)\n",
    "- ff : Fecha formato AAAA-MM-DD\n"
   ]
  },
  {
   "cell_type": "code",
   "execution_count": 7,
   "metadata": {
    "collapsed": true
   },
   "outputs": [],
   "source": [
    "# librerías\n",
    "import pandas as pd\n",
    "import matplotlib.pyplot as plt\n",
    "import numpy as np\n",
    "%matplotlib inline"
   ]
  },
  {
   "cell_type": "code",
   "execution_count": 8,
   "metadata": {
    "collapsed": true
   },
   "outputs": [],
   "source": [
    "df = pd.read_csv(\"data/estado1_5.csv\")"
   ]
  },
  {
   "cell_type": "code",
   "execution_count": 9,
   "metadata": {},
   "outputs": [
    {
     "data": {
      "text/html": [
       "<div>\n",
       "<style>\n",
       "    .dataframe thead tr:only-child th {\n",
       "        text-align: right;\n",
       "    }\n",
       "\n",
       "    .dataframe thead th {\n",
       "        text-align: left;\n",
       "    }\n",
       "\n",
       "    .dataframe tbody tr th {\n",
       "        vertical-align: top;\n",
       "    }\n",
       "</style>\n",
       "<table border=\"1\" class=\"dataframe\">\n",
       "  <thead>\n",
       "    <tr style=\"text-align: right;\">\n",
       "      <th></th>\n",
       "      <th>numero</th>\n",
       "      <th>fecha</th>\n",
       "      <th>nombre</th>\n",
       "      <th>latitud</th>\n",
       "      <th>longitud</th>\n",
       "      <th>prec</th>\n",
       "      <th>tmax</th>\n",
       "      <th>tmin</th>\n",
       "      <th>tmed</th>\n",
       "      <th>velvmax</th>\n",
       "      <th>velv</th>\n",
       "      <th>dirv</th>\n",
       "      <th>radg</th>\n",
       "      <th>humr</th>\n",
       "      <th>ff</th>\n",
       "    </tr>\n",
       "  </thead>\n",
       "  <tbody>\n",
       "    <tr>\n",
       "      <th>0</th>\n",
       "      <td>2</td>\n",
       "      <td>2018-05-01 00:00:00</td>\n",
       "      <td>La Mirinda</td>\n",
       "      <td>22.248528</td>\n",
       "      <td>-102.251778</td>\n",
       "      <td>0.0</td>\n",
       "      <td>30.0</td>\n",
       "      <td>8.2</td>\n",
       "      <td>20.56</td>\n",
       "      <td>17.4</td>\n",
       "      <td>9.01</td>\n",
       "      <td>163.1</td>\n",
       "      <td>429.81</td>\n",
       "      <td>33.47</td>\n",
       "      <td>2018-05-01</td>\n",
       "    </tr>\n",
       "    <tr>\n",
       "      <th>1</th>\n",
       "      <td>2</td>\n",
       "      <td>2018-05-02 00:00:00</td>\n",
       "      <td>La Mirinda</td>\n",
       "      <td>22.248528</td>\n",
       "      <td>-102.251778</td>\n",
       "      <td>0.2</td>\n",
       "      <td>31.4</td>\n",
       "      <td>13.0</td>\n",
       "      <td>21.94</td>\n",
       "      <td>15.6</td>\n",
       "      <td>7.26</td>\n",
       "      <td>161.1</td>\n",
       "      <td>450.76</td>\n",
       "      <td>41.72</td>\n",
       "      <td>2018-05-02</td>\n",
       "    </tr>\n",
       "    <tr>\n",
       "      <th>2</th>\n",
       "      <td>2</td>\n",
       "      <td>2018-05-03 00:00:00</td>\n",
       "      <td>La Mirinda</td>\n",
       "      <td>22.248528</td>\n",
       "      <td>-102.251778</td>\n",
       "      <td>0.6</td>\n",
       "      <td>31.2</td>\n",
       "      <td>13.9</td>\n",
       "      <td>20.05</td>\n",
       "      <td>20.3</td>\n",
       "      <td>4.49</td>\n",
       "      <td>159.7</td>\n",
       "      <td>349.13</td>\n",
       "      <td>64.67</td>\n",
       "      <td>2018-05-03</td>\n",
       "    </tr>\n",
       "    <tr>\n",
       "      <th>3</th>\n",
       "      <td>2</td>\n",
       "      <td>2018-05-04 00:00:00</td>\n",
       "      <td>La Mirinda</td>\n",
       "      <td>22.248528</td>\n",
       "      <td>-102.251778</td>\n",
       "      <td>1.6</td>\n",
       "      <td>30.5</td>\n",
       "      <td>14.7</td>\n",
       "      <td>21.01</td>\n",
       "      <td>6.3</td>\n",
       "      <td>3.45</td>\n",
       "      <td>98.9</td>\n",
       "      <td>375.06</td>\n",
       "      <td>64.73</td>\n",
       "      <td>2018-05-04</td>\n",
       "    </tr>\n",
       "    <tr>\n",
       "      <th>4</th>\n",
       "      <td>2</td>\n",
       "      <td>2018-05-05 00:00:00</td>\n",
       "      <td>La Mirinda</td>\n",
       "      <td>22.248528</td>\n",
       "      <td>-102.251778</td>\n",
       "      <td>2.8</td>\n",
       "      <td>29.4</td>\n",
       "      <td>13.5</td>\n",
       "      <td>19.72</td>\n",
       "      <td>9.7</td>\n",
       "      <td>3.52</td>\n",
       "      <td>12.7</td>\n",
       "      <td>442.23</td>\n",
       "      <td>71.00</td>\n",
       "      <td>2018-05-05</td>\n",
       "    </tr>\n",
       "  </tbody>\n",
       "</table>\n",
       "</div>"
      ],
      "text/plain": [
       "   numero                fecha      nombre    latitud    longitud  prec  tmax  \\\n",
       "0       2  2018-05-01 00:00:00  La Mirinda  22.248528 -102.251778   0.0  30.0   \n",
       "1       2  2018-05-02 00:00:00  La Mirinda  22.248528 -102.251778   0.2  31.4   \n",
       "2       2  2018-05-03 00:00:00  La Mirinda  22.248528 -102.251778   0.6  31.2   \n",
       "3       2  2018-05-04 00:00:00  La Mirinda  22.248528 -102.251778   1.6  30.5   \n",
       "4       2  2018-05-05 00:00:00  La Mirinda  22.248528 -102.251778   2.8  29.4   \n",
       "\n",
       "   tmin   tmed  velvmax  velv   dirv    radg   humr          ff  \n",
       "0   8.2  20.56     17.4  9.01  163.1  429.81  33.47  2018-05-01  \n",
       "1  13.0  21.94     15.6  7.26  161.1  450.76  41.72  2018-05-02  \n",
       "2  13.9  20.05     20.3  4.49  159.7  349.13  64.67  2018-05-03  \n",
       "3  14.7  21.01      6.3  3.45   98.9  375.06  64.73  2018-05-04  \n",
       "4  13.5  19.72      9.7  3.52   12.7  442.23  71.00  2018-05-05  "
      ]
     },
     "execution_count": 9,
     "metadata": {},
     "output_type": "execute_result"
    }
   ],
   "source": [
    "df.head()"
   ]
  },
  {
   "cell_type": "code",
   "execution_count": 10,
   "metadata": {
    "collapsed": true
   },
   "outputs": [],
   "source": [
    "dftemp = df.where(df['nombre'] == \"CEPAB\").dropna()"
   ]
  },
  {
   "cell_type": "code",
   "execution_count": 11,
   "metadata": {},
   "outputs": [
    {
     "data": {
      "image/png": "[encoded data removed]",
      "text/plain": [
       "<matplotlib.figure.Figure at 0x117c18828>"
      ]
     },
     "metadata": {},
     "output_type": "display_data"
    }
   ],
   "source": [
    "x = np.arange(len(dftemp['prec']))\n",
    "y = dftemp[[\"prec\"]]\n",
    "plt.plot(x,y)\n",
    "plt.title(\"CEPAB\")\n",
    "plt.ylabel(\"Precipitación mm\", rotation='vertical')\n",
    "plt.xlabel(\"Día\")\n",
    "plt.savefig(\"img/cepab_prec.png\", dpi=300)"
   ]
  },
  {
   "cell_type": "code",
   "execution_count": null,
   "metadata": {
    "collapsed": true
   },
   "outputs": [],
   "source": []
  }
 ],
 "metadata": {
  "kernelspec": {
   "display_name": "Python 3",
   "language": "python",
   "name": "python3"
  },
  "language_info": {
   "codemirror_mode": {
    "name": "ipython",
    "version": 3
   },
   "file_extension": ".py",
   "mimetype": "text/x-python",
   "name": "python",
   "nbconvert_exporter": "python",
   "pygments_lexer": "ipython3",
   "version": "3.6.5"
  }
 },
 "nbformat": 4,
 "nbformat_minor": 2
}
