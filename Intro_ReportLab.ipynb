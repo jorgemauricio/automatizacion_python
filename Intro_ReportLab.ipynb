{
 "cells": [
  {
   "cell_type": "markdown",
   "metadata": {},
   "source": [
    "# Taller de Automatización de Procesos con Python"
   ]
  },
  {
   "cell_type": "markdown",
   "metadata": {},
   "source": [
    "## Introducción a ReportLab\n",
    "\n",
    "### GitHub repository: https://github.com/jorgemauricio/automatizacion_python\n",
    "\n",
    "### Instructor: Jorge Mauricio"
   ]
  },
  {
   "cell_type": "markdown",
   "metadata": {},
   "source": [
    "### Instalación\n",
    "\n",
    "`conda install -c anaconda reportlab`\n",
    "\n",
    "ReportLab es una librería open source que nos permite generar archivos pdf en los cuales podemos incluir texto e imágenes, para mayor información: https://www.reportlab.com/"
   ]
  },
  {
   "cell_type": "code",
   "execution_count": 39,
   "metadata": {
    "collapsed": true
   },
   "outputs": [],
   "source": [
    "# librerías\n",
    "import pandas as pd\n",
    "import numpy as np\n",
    "import matplotlib.pyplot as plt\n",
    "from reportlab.pdfgen import canvas\n",
    "%matplotlib inline"
   ]
  },
  {
   "cell_type": "code",
   "execution_count": 40,
   "metadata": {
    "collapsed": true
   },
   "outputs": [],
   "source": [
    "# crear nuestro objeto, el cual va a manipular los cambios\n",
    "c = canvas.Canvas(\"pdf/Hello.pdf\")"
   ]
  },
  {
   "cell_type": "code",
   "execution_count": 41,
   "metadata": {
    "collapsed": true
   },
   "outputs": [],
   "source": [
    "# agregar texto a nuestro pdf\n",
    "c.drawString(100,750,\"Ejercicio No. 1\")"
   ]
  },
  {
   "cell_type": "code",
   "execution_count": 42,
   "metadata": {},
   "outputs": [],
   "source": [
    "# guardar el pdf\n",
    "c.save()"
   ]
  },
  {
   "cell_type": "code",
   "execution_count": 12,
   "metadata": {
    "collapsed": true
   },
   "outputs": [],
   "source": [
    "# para utilizar el tamaño carta para el pdf debemos de importar la siguiente librería\n",
    "from reportlab.lib.pagesizes import letter"
   ]
  },
  {
   "cell_type": "code",
   "execution_count": 43,
   "metadata": {
    "collapsed": true
   },
   "outputs": [],
   "source": [
    "# declarar el objeto para generar el PDF\n",
    "canvas = canvas.Canvas(\"pdf/forma.pdf\", pagesize=letter)\n",
    "\n",
    "# ajustr el tamaño de línea\n",
    "canvas.setLineWidth(.3)\n",
    "\n",
    "# cambiar el tipo de letra, recordar que solo se pueden utilizar las que están instaladas en el sistema\n",
    "canvas.setFont('Helvetica', 12)\n",
    "\n",
    "# generar el texto correspondiente\n",
    "canvas.drawString(30,750,'Comunicado Oficial')\n",
    "canvas.drawString(30,735,'Empresa ACME')\n",
    "canvas.drawString(500,750,\"26/07/2018\")\n",
    "\n",
    "# línea debajo de fecha\n",
    "canvas.line(480,747,580,747)\n",
    "\n",
    "# cantidad\n",
    "canvas.drawString(275,725,'Cantidad:')\n",
    "canvas.drawString(500,725,\"$1,000.00\")\n",
    "canvas.line(378,723,580,723)\n",
    "\n",
    "# recibe\n",
    "canvas.drawString(30,703,'Recibe:')\n",
    "canvas.line(120,700,580,700)\n",
    "canvas.drawString(120,703,\"Jorge Mauricio\")\n",
    "\n",
    "# guardar pdf\n",
    "canvas.save()"
   ]
  },
  {
   "cell_type": "markdown",
   "metadata": {},
   "source": [
    "### Para que el siguiente código funcione a la perfección el usuario debe de tener instalado la librería de Python Image Library (PIL)\n",
    "\n",
    "* PIL\n",
    "\n",
    "`conda install -c anaconda pil`"
   ]
  },
  {
   "cell_type": "code",
   "execution_count": 46,
   "metadata": {},
   "outputs": [],
   "source": [
    "# librerías\n",
    "from time import gmtime, strftime\n",
    "from reportlab.lib.enums import TA_JUSTIFY\n",
    "from reportlab.lib.pagesizes import letter\n",
    "from reportlab.platypus import SimpleDocTemplate, Paragraph, Spacer, Image\n",
    "from reportlab.lib.styles import getSampleStyleSheet, ParagraphStyle\n",
    "from reportlab.lib.units import inch\n",
    " \n",
    "# generar un objeto PDF\n",
    "doc = SimpleDocTemplate(\"pdf/invitacion.pdf\",pagesize=letter,\n",
    "                        rightMargin=72,leftMargin=72,\n",
    "                        topMargin=72,bottomMargin=18)\n",
    "\n",
    "# crear arreglo Story para guardar nuestra información que posteriormente se convertira en PDF\n",
    "Story=[]\n",
    "\n",
    "# datos del taller\n",
    "banner = \"img/banner_python.png\"\n",
    "taller = \"Taller de Automatización de Procesos con Python\"\n",
    "precio = \"Sin Costo\"\n",
    "fecha = \"26/07/2018\"\n",
    "responsable = \"Dr. Victor Rodríguez\"\n",
    " \n",
    "# datos de la persona a contactar\n",
    "dia_actual = strftime(\"%Y-%m-%d\")\n",
    "nombre_completo = \"Jorge Ernesto Mauricio Ruvalcaba\"\n",
    "email = \"jorge.ernesto.mauricio@gmail.com\"\n",
    " \n",
    "# leer imagen como objeto de imagen\n",
    "im = Image(banner, 6*inch, 3*inch)\n",
    "\n",
    "# agregar imagen\n",
    "Story.append(im)\n",
    " \n",
    "# aplicar estilo justificado al texto\n",
    "styles=getSampleStyleSheet()\n",
    "styles.add(ParagraphStyle(name='Justify', alignment=TA_JUSTIFY))\n",
    "\n",
    "# agregar la fecha del día actual\n",
    "texto_parrafo = '<font size=12>{}</font>'.format(dia_actual)\n",
    "\n",
    "# agreagar fecha al pdf \n",
    "Story.append(Paragraph(texto_parrafo, styles[\"Normal\"]))\n",
    "\n",
    "# agregar espacio\n",
    "Story.append(Spacer(1, 12))\n",
    " \n",
    "# agregar nombre de la persona\n",
    "texto_parrafo = '<font size=12>{}</font>'.format(nombre_completo)\n",
    "Story.append(Paragraph(texto_parrafo, styles[\"Normal\"]))\n",
    "   \n",
    "# agregar email de la persona\n",
    "texto_parrafo = '<font size=12>{}</font>'.format(email)\n",
    "Story.append(Paragraph(texto_parrafo, styles[\"Normal\"]))\n",
    " \n",
    "# agregar espacio\n",
    "Story.append(Spacer(1, 24))\n",
    " \n",
    "texto_parrafo = '<font size=12>El Laboratorio Nacional de Modelaje y Sensores Remotos (LNMySR) ' \n",
    "texto_parrafo += 'hace una atenta invitación a personal investigador, académicos, estudiantes y ' \n",
    "texto_parrafo += 'al público en general para el siguiente curso: {} '.format(taller)\n",
    "texto_parrafo += 'para el día {} con un horario de 9 am a 5 pm en las instalaciones del LNMySR ubicado en: \\n'.format(fecha)\n",
    "texto_parrafo += 'INIFAP - CAMPO EXPERIMENTAL PABELLÓN \\nCIR NORTE CENTRO \\nKm. 32.5 Carretera Panamericana Aguascalientes - Zacatecas'\n",
    "texto_parrafo += 'Pabellón de Arteaga, Aguascalientes, México \\n C.P. 20670</font>'\n",
    "\n",
    "Story.append(Paragraph(texto_parrafo, styles[\"Justify\"]))\n",
    "Story.append(Spacer(1, 48))\n",
    "\n",
    "# agregar nombre de la persona\n",
    "texto_parrafo = '<font size=12>{}</font>'.format(responsable)\n",
    "Story.append(Paragraph(texto_parrafo, styles[\"Normal\"]))\n",
    "\n",
    "doc.build(Story)"
   ]
  },
  {
   "cell_type": "code",
   "execution_count": null,
   "metadata": {
    "collapsed": true
   },
   "outputs": [],
   "source": []
  }
 ],
 "metadata": {
  "kernelspec": {
   "display_name": "Python 3",
   "language": "python",
   "name": "python3"
  },
  "language_info": {
   "codemirror_mode": {
    "name": "ipython",
    "version": 3
   },
   "file_extension": ".py",
   "mimetype": "text/x-python",
   "name": "python",
   "nbconvert_exporter": "python",
   "pygments_lexer": "ipython3",
   "version": "3.6.4"
  }
 },
 "nbformat": 4,
 "nbformat_minor": 2
}
